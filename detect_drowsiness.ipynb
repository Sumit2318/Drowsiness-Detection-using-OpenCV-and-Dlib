{
 "cells": [
  {
   "cell_type": "code",
   "execution_count": 1,
   "metadata": {},
   "outputs": [
    {
     "name": "stdout",
     "output_type": "stream",
     "text": [
      "pygame 1.9.4\n",
      "Hello from the pygame community. https://www.pygame.org/contribute.html\n"
     ]
    }
   ],
   "source": [
    "import cv2\n",
    "import os\n",
    "import scipy.spatial.distance as dist\n",
    "from threading import Thread\n",
    "import numpy as np\n",
    "import dlib\n",
    "import time\n",
    "import argparse\n",
    "from pygame import mixer"
   ]
  },
  {
   "cell_type": "code",
   "execution_count": 2,
   "metadata": {
    "collapsed": true
   },
   "outputs": [],
   "source": [
    "\n",
    "def eye_aspect_ratio(eye):\n",
    "    \n",
    "    v1=dist.euclidean(eye[1],eye[5])\n",
    "    v2=dist.euclidean(eye[2],eye[4])\n",
    "    h1=dist.euclidean(eye[0],eye[3])\n",
    "    \n",
    "    \n",
    "    ratio=v1+v2/(2.0*h1)\n",
    "    return ratio\n",
    "\n",
    "def play_alarm():\n",
    "    \n",
    "    mixer.init()\n",
    "    mixer.music.load('Industrial Alarm-SoundBible.com-1012301296.wav')\n",
    "    mixer.music.play()\n",
    "    mixer.stop()"
   ]
  },
  {
   "cell_type": "code",
   "execution_count": null,
   "metadata": {
    "collapsed": true
   },
   "outputs": [],
   "source": [
    "'''ap=argparse.ArgumentParser()\n",
    "ap.add_argument(\"-p\",\"--shape_predcitor\",required=True,help=\"Path to Facial Landmark Detector\")\n",
    "args=vars(ap.parse_args())'''\n"
   ]
  },
  {
   "cell_type": "code",
   "execution_count": 23,
   "metadata": {
    "collapsed": true
   },
   "outputs": [],
   "source": [
    "EYE_AR_THRESHOLD=8\n",
    "CONS_FRAME_BLINK=4\n",
    "TOTAL=0\n",
    "COUNTER=0\n",
    "ALARM_ON=False"
   ]
  },
  {
   "cell_type": "code",
   "execution_count": 11,
   "metadata": {
    "collapsed": true
   },
   "outputs": [],
   "source": [
    "detector=dlib.get_frontal_face_detector()\n",
    "predictor = dlib.shape_predictor(\"shape_predictor_68_face_landmarks.dat\")"
   ]
  },
  {
   "cell_type": "code",
   "execution_count": 12,
   "metadata": {
    "collapsed": true
   },
   "outputs": [],
   "source": [
    "FACIAL_LANDMARKS_68_INDEX = {\"mouth\":(48, 68), \"inner_mouth\":(60, 68) ,\n",
    "                            \"right_eyebrow\": (17, 22),\"left_eyebrow\": (22, 27),\n",
    "                             \"right_eye\": (36, 42),\"left_eye\": (42, 48),\n",
    "                             \"nose\": (27, 36),\"jaw\": (0, 17)\n",
    "                            }\n",
    "\n",
    "def convert_to_numpy(shape):\n",
    "    \n",
    "    facial_landmarks= np.zeros((68, 2), dtype=int)\n",
    "    for i in range(0,shape.num_parts):\n",
    "        facial_landmarks[i]=(shape.part(i).x,shape.part(i).y)\n",
    "        \n",
    "    return facial_landmarks\n",
    "\n",
    "def rect_to_bounding_box(rect):\n",
    "    \n",
    "    x=rect.left()\n",
    "    y=rect.top()\n",
    "    \n",
    "    w=rect.right()-x\n",
    "    h=rect.bottom()-y\n",
    "\n",
    "    return (x,y,w,h)"
   ]
  },
  {
   "cell_type": "code",
   "execution_count": 24,
   "metadata": {},
   "outputs": [
    {
     "name": "stdout",
     "output_type": "stream",
     "text": [
      "7.11747618189\n",
      "7.66182644265\n",
      "7.62415679216\n",
      "7.13366732263\n",
      "7.09907008617\n",
      "hi\n",
      "6.58696306546\n",
      "hi\n",
      "7.63541021863\n",
      "hi\n",
      "7.59973790103\n",
      "hi\n",
      "6.63207822681\n",
      "hi\n",
      "7.0953794221\n",
      "hi\n",
      "7.0997145041\n",
      "hi\n",
      "7.08696306546\n",
      "hi\n",
      "7.59650408324\n",
      "hi\n"
     ]
    }
   ],
   "source": [
    "cap=cv2.VideoCapture(0)  #argument can be a device index or name/path of the video file \n",
    "\n",
    "cap.set(3,780)\n",
    "cap.set(4,780)\n",
    "#print \"hello\"\n",
    "while(cap.isOpened()):\n",
    "    \n",
    "    ret,frame=cap.read() # ret=True if a frame is read ,otherwise False\n",
    "    \n",
    "    if ret==True:\n",
    "        \n",
    "        #gray = cv2.cvtColor(frame, cv2.COLOR_BGR2GRAY) # Convert the frame into gray image\n",
    "        rects=detector(frame,0)\n",
    "        \n",
    "        for (i,rect) in enumerate(rects):\n",
    "            \n",
    "            shape = predictor(frame, rect)\n",
    "            shape = convert_to_numpy(shape)\n",
    "     \n",
    "            #(x,y,w,h)=rect_to_bounding_box(rect)\n",
    "            #cv2.rectangle(frame,(x,y),(x+w,y+h),(0,255,0),2)\n",
    "\n",
    "            left_eye = shape[FACIAL_LANDMARKS_68_INDEX[\"left_eye\"][0]:FACIAL_LANDMARKS_68_INDEX[\"left_eye\"][1]]\n",
    "            right_eye = shape[FACIAL_LANDMARKS_68_INDEX[\"right_eye\"][0]:FACIAL_LANDMARKS_68_INDEX[\"right_eye\"][1]]\n",
    "            mouth = shape[FACIAL_LANDMARKS_68_INDEX[\"mouth\"][0]:FACIAL_LANDMARKS_68_INDEX[\"mouth\"][1]]\n",
    "            nose = shape[FACIAL_LANDMARKS_68_INDEX[\"nose\"][0]:FACIAL_LANDMARKS_68_INDEX[\"nose\"][1]]\n",
    "            inner_mouth = shape[FACIAL_LANDMARKS_68_INDEX[\"inner_mouth\"][0]:FACIAL_LANDMARKS_68_INDEX[\"inner_mouth\"][1]]\n",
    "            right_eyebrow = shape[FACIAL_LANDMARKS_68_INDEX[\"right_eyebrow\"][0]:FACIAL_LANDMARKS_68_INDEX[\"right_eyebrow\"][1]]\n",
    "            left_eyebrow = shape[FACIAL_LANDMARKS_68_INDEX[\"left_eyebrow\"][0]:FACIAL_LANDMARKS_68_INDEX[\"left_eyebrow\"][1]]\n",
    "            #jaw = shape[FACIAL_LANDMARKS_68_INDEX[\"jaw\"][0]:FACIAL_LANDMARKS_68_INDEX[\"jaw\"][1]]\n",
    "            \n",
    "            left_ratio = eye_aspect_ratio(left_eye)\n",
    "            right_ratio = eye_aspect_ratio(right_eye)\n",
    " \n",
    "\n",
    "            aspect_ratio = (left_ratio + right_ratio) / 2.0\n",
    "    \n",
    "            left_convex_hull=cv2.convexHull(left_eye)\n",
    "            right_convex_hull=cv2.convexHull(right_eye)\n",
    "            \n",
    "            #left_eyebrow=cv2.convexHull(left_eyebrow)\n",
    "            #right_eyebrow=cv2.convexHull(right_eyebrow)\n",
    "            #mouth=cv2.convexHull(mouth)\n",
    "            #inner_mouth=cv2.convexHull(inner_mouth)\n",
    "            #jaw=cv2.convexHull(jaw)\n",
    "            #nose=cv2.convexHull(nose)\n",
    "            \n",
    "            cv2.drawContours(frame, [left_convex_hull], -1, (255, 0, 0), 1)\n",
    "            cv2.drawContours(frame, [right_convex_hull], -1, ( 255, 0,0), 1)\n",
    "            '''\n",
    "            cv2.drawContours(frame, [left_eyebrow], -1, (0, 255, 0), 1)\n",
    "            cv2.drawContours(frame, [right_eyebrow], -1, (0, 255, 0), 1)\n",
    "            cv2.drawContours(frame, [mouth], -1, (0, 255, 0), 1)\n",
    "            cv2.drawContours(frame, [inner_mouth], -1, (0, 255, 0), 1)\n",
    "            #cv2.drawContours(frame, [jaw], -1, ( 255, 0,0), 1)\n",
    "            cv2.drawContours(frame, [nose], -1, ( 255, 0,0), 1)\n",
    "            \n",
    "            '''\n",
    "            if aspect_ratio < EYE_AR_THRESHOLD:\n",
    "                print(aspect_ratio)\n",
    "                COUNTER+=1\n",
    "            \n",
    "                if COUNTER>=CONS_FRAME_BLINK:\n",
    "                    print(\"hi\")\n",
    "                    TOTAL+=1\n",
    "                    \n",
    "                    if ALARM_ON==False:\n",
    "                        ALARM_ON=True\n",
    "                        alarm_thread=Thread(target=play_alarm)\n",
    "                        alarm_thread.deamon=True\n",
    "                        alarm_thread.start()\n",
    "            else:\n",
    "                COUNTER=0\n",
    "                ALARM_ON=False\n",
    "            \n",
    "            cv2.putText(frame, \"Blinks: {}\".format(TOTAL), (10, 30),\n",
    "                        cv2.FONT_HERSHEY_SIMPLEX, 0.7, (0, 0, 255), 2)\n",
    "            cv2.putText(frame, \"EAR: {:.2f}\".format(aspect_ratio), (300, 30),\n",
    "                        cv2.FONT_HERSHEY_SIMPLEX, 0.7, (0, 220, 255), 1)\n",
    "            \n",
    "            cv2.imshow('frame',frame)\n",
    "        if cv2.waitKey(1) & 0xFF == ord('q'):\n",
    "            break\n",
    "    else:\n",
    "        break\n",
    "\n",
    "# When everything done, release the capture\n",
    "cap.release()\n",
    "cv2.destroyAllWindows()"
   ]
  },
  {
   "cell_type": "code",
   "execution_count": null,
   "metadata": {
    "collapsed": true
   },
   "outputs": [],
   "source": [
    "ar=(10,20)\n",
    "ar[1]"
   ]
  },
  {
   "cell_type": "code",
   "execution_count": null,
   "metadata": {
    "collapsed": true
   },
   "outputs": [],
   "source": []
  }
 ],
 "metadata": {
  "kernelspec": {
   "display_name": "Python 3",
   "language": "python",
   "name": "python3"
  },
  "language_info": {
   "codemirror_mode": {
    "name": "ipython",
    "version": 3
   },
   "file_extension": ".py",
   "mimetype": "text/x-python",
   "name": "python",
   "nbconvert_exporter": "python",
   "pygments_lexer": "ipython3",
   "version": "3.5.4"
  }
 },
 "nbformat": 4,
 "nbformat_minor": 2
}
